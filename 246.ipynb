{
  "cells": [
    {
      "cell_type": "code",
      "execution_count": 5,
      "id": "98e9064a",
      "metadata": {
        "id": "98e9064a"
      },
      "outputs": [],
      "source": [
        "import wordle as wd"
      ]
    },
    {
      "cell_type": "code",
      "execution_count": 7,
      "id": "246a6d85",
      "metadata": {
        "id": "246a6d85"
      },
      "outputs": [],
      "source": [
        "wlist = wd.load()"
      ]
    },
    {
      "cell_type": "code",
      "execution_count": 8,
      "id": "a51c2f79",
      "metadata": {
        "id": "a51c2f79",
        "outputId": "5f1d5548-cc3a-4325-eff3-37416cf41b4f",
        "colab": {
          "base_uri": "https://localhost:8080/"
        }
      },
      "outputs": [
        {
          "output_type": "execute_result",
          "data": {
            "text/plain": [
              "{'A': 975,\n",
              " 'B': 280,\n",
              " 'C': 475,\n",
              " 'D': 393,\n",
              " 'E': 1230,\n",
              " 'F': 229,\n",
              " 'G': 310,\n",
              " 'H': 387,\n",
              " 'I': 670,\n",
              " 'J': 27,\n",
              " 'K': 210,\n",
              " 'L': 716,\n",
              " 'M': 316,\n",
              " 'N': 573,\n",
              " 'O': 753,\n",
              " 'P': 365,\n",
              " 'Q': 29,\n",
              " 'R': 897,\n",
              " 'S': 668,\n",
              " 'T': 729,\n",
              " 'U': 466,\n",
              " 'V': 152,\n",
              " 'W': 194,\n",
              " 'X': 37,\n",
              " 'Y': 424,\n",
              " 'Z': 40}"
            ]
          },
          "metadata": {},
          "execution_count": 8
        }
      ],
      "source": [
        "wd.stats(wlist)"
      ]
    },
    {
      "cell_type": "code",
      "execution_count": 17,
      "id": "495c77fa",
      "metadata": {
        "colab": {
          "base_uri": "https://localhost:8080/"
        },
        "id": "495c77fa",
        "outputId": "99a19017-4003-47ed-f122-9e90ce748ad9"
      },
      "outputs": [
        {
          "output_type": "stream",
          "name": "stdout",
          "text": [
            "['ACORN', 'ACTOR', 'AISLE', 'ALERT', 'ALIEN', 'ALLOT', 'ALONE', 'ALTAR', 'ALTER', 'ANTIC', 'AORTA', 'ARENA', 'ARISE', 'AROSE', 'ARSON', 'ASCOT', 'ASSET', 'ATOLL', 'ATONE', 'ATTIC', 'CACAO', 'CACTI', 'CAIRN', 'CANAL', 'CANOE', 'CANON', 'CARAT', 'CAROL', 'CASTE', 'CATER', 'CEASE', 'CELLO', 'CIRCA', 'CLASS', 'CLEAN', 'CLEAR', 'CLEAT', 'CLONE', 'CLOSE', 'COAST', 'COCOA', 'COLON', 'COLOR', 'CONIC', 'CORAL', 'CORER', 'CRANE', 'CRASS', 'CRATE', 'CRESS', 'CREST', 'CRIER', 'CRONE', 'CROSS', 'EASEL', 'EATEN', 'EATER', 'ECLAT', 'EERIE', 'ELATE', 'ELECT', 'ELITE', 'ENACT', 'ENTER', 'ERASE', 'ERECT', 'ERROR', 'ESTER', 'ILIAC', 'INANE', 'INERT', 'INLET', 'INNER', 'INTER', 'INTRO', 'IONIC', 'IRATE', 'ISLET', 'LANCE', 'LASSO', 'LATER', 'LATTE', 'LEANT', 'LEARN', 'LEASE', 'LEAST', 'LILAC', 'LINEN', 'LINER', 'LOCAL', 'LOOSE', 'LOSER', 'NASAL', 'NATAL', 'NICER', 'NIECE', 'NOISE', 'NOOSE', 'OCEAN', 'OCTAL', 'OCTET', 'ONION', 'ONSET', 'OTTER', 'RACER', 'RAISE', 'RARER', 'RATIO', 'REACT', 'RELIC', 'RENAL', 'RESET', 'RESIN', 'RETRO', 'RINSE', 'RISEN', 'RISER', 'ROAST', 'ROOST', 'ROTOR', 'SAINT', 'SALON', 'SALSA', 'SANER', 'SATIN', 'SCALE', 'SCANT', 'SCARE', 'SCENE', 'SCENT', 'SCION', 'SCONE', 'SCORE', 'SCORN', 'SCREE', 'SENSE', 'SINCE', 'SIREN', 'SLAIN', 'SLANT', 'SLATE', 'SLEET', 'SLICE', 'SNAIL', 'SNARE', 'SNARL', 'SNEER', 'SNORE', 'SNORT', 'SOLAR', 'SONAR', 'SONIC', 'STAIN', 'STAIR', 'STALE', 'STALL', 'STARE', 'START', 'STATE', 'STEAL', 'STEEL', 'STEER', 'STEIN', 'STERN', 'STILL', 'STILT', 'STINT', 'STOIC', 'STOLE', 'STONE', 'STOOL', 'STORE', 'TACIT', 'TAINT', 'TALON', 'TAROT', 'TASTE', 'TEASE', 'TENET', 'TENOR', 'TENSE', 'TERRA', 'TERSE', 'TIARA', 'TITAN', 'TITLE', 'TOAST', 'TONAL', 'TONIC', 'TORSO', 'TOTAL', 'TRACE', 'TRACT', 'TRAIL', 'TRAIN', 'TRAIT', 'TREAT', 'TRIAL', 'TRICE', 'TRITE', 'TROLL']\n",
            "['ELITE', 'ISLET', 'SLEET', 'STEEL', 'STILL', 'STILT', 'TITLE']\n"
          ]
        },
        {
          "output_type": "execute_result",
          "data": {
            "text/plain": [
              "['ANTIC', 'ATTIC', 'CACTI', 'TACIT']"
            ]
          },
          "metadata": {},
          "execution_count": 17
        }
      ],
      "source": [
        "# E A R O are very popular\n",
        "g1 = wd.query(wlist, not_contains=['J','Q','X','Z','V','W','K','F','B','G','M','P','H','D','Y','U'])#removed least frequent words\n",
        "print(g1)\n",
        "g2 = wd.query(g1, not_contains=['C','R','A','N','O']) #searched most frequent letters in words of disctionary, eliminated the possibilities of those words to make a rightful guess\n",
        "print(g2)#put ISLET and found I to be in wrong position and T in right\n",
        "g3=wd.query(wlist, contains='IACT')\n",
        "g3"
      ]
    }
  ],
  "metadata": {
    "kernelspec": {
      "display_name": "Python 3 (ipykernel)",
      "language": "python",
      "name": "python3"
    },
    "language_info": {
      "codemirror_mode": {
        "name": "ipython",
        "version": 3
      },
      "file_extension": ".py",
      "mimetype": "text/x-python",
      "name": "python",
      "nbconvert_exporter": "python",
      "pygments_lexer": "ipython3",
      "version": "3.8.2"
    },
    "colab": {
      "name": "245.ipynb",
      "provenance": []
    }
  },
  "nbformat": 4,
  "nbformat_minor": 5
}